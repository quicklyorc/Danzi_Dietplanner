{
  "nbformat": 4,
  "nbformat_minor": 0,
  "metadata": {
    "colab": {
      "provenance": []
    },
    "kernelspec": {
      "name": "python3",
      "display_name": "Python 3"
    },
    "language_info": {
      "name": "python"
    }
  },
  "cells": [
    {
      "cell_type": "code",
      "execution_count": null,
      "metadata": {
        "id": "_kah_kTItOBQ"
      },
      "outputs": [],
      "source": [
        "import cv2\n",
        "import glob\n",
        "import json\n",
        "from tqdm import tqdm\n",
        "import os\n",
        "import re\n",
        "from PIL import Image\n",
        "import numpy as np\n",
        "from matplotlib import pyplot as plt"
      ]
    },
    {
      "cell_type": "code",
      "source": [
        "from google.colab import drive\n",
        "drive.mount('/content/drive')"
      ],
      "metadata": {
        "id": "uT7dDSfFtPr6"
      },
      "execution_count": null,
      "outputs": []
    },
    {
      "cell_type": "markdown",
      "source": [
        "### 경로 확인"
      ],
      "metadata": {
        "id": "y9MKaDGetRj5"
      }
    },
    {
      "cell_type": "code",
      "source": [
        "# 기본 디렉토리 설정\n",
        "base_path = '/content/drive/MyDrive/food_data/Training/unzip'\n",
        "\n",
        "unzip_num_path = glob.glob(os.path.join(base_path, '*'))\n",
        "sorted_unzip = sorted(unzip_num_path)\n",
        "\n",
        "# 정규식 패턴 정의 (알파벳 뒤에 오는 숫자가 18, 20, 21, 28인 경우 필터링)\n",
        "exclude_pattern = re.compile(r'^[a-zA-Z](18|20|21|28)')\n",
        "\n",
        "for folder in sorted_unzip[-4:-3]: ####\n",
        "    print('start: ' + folder)"
      ],
      "metadata": {
        "id": "aa8AeonYtQBZ"
      },
      "execution_count": null,
      "outputs": []
    },
    {
      "cell_type": "markdown",
      "source": [
        "### Unzip 파일 갯수 확인"
      ],
      "metadata": {
        "id": "q5E6cyiOtX5H"
      }
    },
    {
      "cell_type": "code",
      "source": [
        "# 압축 파일 경로와 해제할 경로 설정\n",
        "unzip_file_path = '/content/drive/MyDrive/food_data/Training/unzip'\n",
        "\n",
        "# ZIP 파일들의 경로 리스트를 얻기\n",
        "unzip_files = glob.glob(os.path.join(unzip_file_path, '*'))\n",
        "num_files = sorted(unzip_files)\n",
        "\n",
        "for file_path in num_files[-4:-3]:\n",
        "  print(\"\\n확인할 폴더: \" + file_path)\n",
        "  img_path = os.path.join(file_path, 'image')\n",
        "  json_path = os.path.join(file_path, 'json')\n",
        "\n",
        "  img_file_path = glob.glob(os.path.join(img_path, '*'))\n",
        "  img_sort_files = sorted(img_file_path)\n",
        "\n",
        "  print(\"음식 폴더의 수:\", len(img_file_path))\n",
        "\n",
        "  for file in img_sort_files:\n",
        "    imgs = glob.glob(os.path.join(file, '*'))\n",
        "    food_name = file.split('/')[-1]\n",
        "    food_json = food_name + \" json\"\n",
        "    print(f\"\\t{food_name}의 이미지 수:\", len(imgs))\n",
        "\n",
        "    json_sort_files = os.path.join(json_path, food_json)\n",
        "    jsons = glob.glob(os.path.join(json_sort_files, '*'))\n",
        "    print(f\"\\t{food_name}의 json 수:\", len(jsons))\n",
        "\n",
        "    if len(imgs) != len(jsons):\n",
        "        print(f\"\\tWarning: {food_name}의 이미지와 json 파일의 수가 다릅니다.\")\n"
      ],
      "metadata": {
        "id": "KqCyV84ftQEI"
      },
      "execution_count": null,
      "outputs": []
    },
    {
      "cell_type": "markdown",
      "source": [
        "### 이미지 Crop 진행"
      ],
      "metadata": {
        "id": "IbHQGCGOtejX"
      }
    },
    {
      "cell_type": "code",
      "source": [
        "# 기본 디렉토리 설정\n",
        "base_path = '/content/drive/MyDrive/food_data/Training/unzip'\n",
        "\n",
        "unzip_num_path = glob.glob(os.path.join(base_path, '*'))\n",
        "sorted_unzip = sorted(unzip_num_path)\n",
        "\n",
        "# 정규식 패턴 정의 (알파벳 뒤에 오는 숫자가 18, 20, 21, 28인 경우 필터링)\n",
        "exclude_pattern = re.compile(r'^[a-zA-Z](18|20|21|28)')\n",
        "\n",
        "for folder in sorted_unzip[-5:-4]: ####\n",
        "    print('start: ' + folder)\n",
        "    json_base_dir = os.path.join(folder, 'json')\n",
        "    image_base_dir = os.path.join(folder, 'image')\n",
        "\n",
        "    output_base_dir = '/content/drive/MyDrive/food_data/Crop' ####\n",
        "    folder_num = os.path.basename(folder)\n",
        "    folder_path = os.path.join(output_base_dir, folder_num)\n",
        "\n",
        "    #하위 디렉터리가 없다면 생성\n",
        "    os.makedirs(folder_path, exist_ok=True)\n",
        "\n",
        "    # 목록 들고오기\n",
        "    json_folders = os.listdir(json_base_dir)\n",
        "    image_folders = os.listdir(image_base_dir)\n",
        "\n",
        "    # json 폴더 이름을 image 폴더에서 찾기\n",
        "    for json_folder in json_folders:  #####\n",
        "        #JSON 폴더 이름에서 뒤에 붙은 ' json' 제거\n",
        "        json_folder_name = json_folder.rstrip(' json')\n",
        "        image_folder_path = os.path.join(image_base_dir, json_folder_name)\n",
        "\n",
        "        # JSON 폴더와 매칭되는 이미지 폴더가 있는지 확인\n",
        "        if os.path.exists(image_folder_path):\n",
        "            json_folder_path = os.path.join(json_base_dir, json_folder)\n",
        "            output_folder_path = os.path.join(folder_path, json_folder_name)\n",
        "\n",
        "            # JSON 및 이미지 파일 목록 불러오기\n",
        "            json_files = glob.glob(os.path.join(json_folder_path, '*'))\n",
        "            image_files = glob.glob(os.path.join(image_folder_path, '*'))\n",
        "\n",
        "            if not(exclude_pattern.search(os.path.basename(image_files[0]))):\n",
        "                os.makedirs(output_folder_path, exist_ok=True)\n",
        "\n",
        "            print(json_folder_name)\n",
        "\n",
        "            for image_file in tqdm(image_files[:1000]):  #####\n",
        "                # 파일명이 정규식 패턴에 맞는지 확인\n",
        "                if exclude_pattern.search(os.path.basename(image_file)):\n",
        "                    continue  # 패턴에 맞는 파일은 건너뜀\n",
        "\n",
        "            # for image_file in image_files:   #####\n",
        "                image_path = os.path.join(image_folder_path, image_file)\n",
        "                json_file = (os.path.splitext(os.path.basename(image_file))[0]+'.json')\n",
        "                json_path = os.path.join(json_folder_path, json_file)\n",
        "\n",
        "                # # 이미지 읽기\n",
        "                img_read = Image.open(image_path)\n",
        "                image = np.array(img_read)\n",
        "                # image = cv2.imread(image_path)\n",
        "                img_height, img_width, _ = image.shape\n",
        "\n",
        "                # JSON 파일 읽기\n",
        "                with open(json_path, 'r') as f:\n",
        "                    bounding_boxes = json.load(f)\n",
        "\n",
        "                # JSON에서 바운딩 박스 정보 가져오기\n",
        "                for i, bbox in enumerate(bounding_boxes):\n",
        "                    point_str = bbox[\"Point(x,y)\"]\n",
        "                    width_ratio = float(bbox[\"W\"])\n",
        "                    height_ratio = float(bbox[\"H\"])\n",
        "\n",
        "                    x_ratio, y_ratio = map(float, point_str.split(','))\n",
        "\n",
        "                    # 상대 좌표를 절대 좌표로 변환\n",
        "                    x = int(x_ratio * img_width)\n",
        "                    y = int(y_ratio * img_height)\n",
        "                    width = int(width_ratio * img_width)\n",
        "                    height = int(height_ratio * img_height)\n",
        "                    new_x = int(x - width/2)\n",
        "                    new_y = int(y - height/2)\n",
        "\n",
        "                    # 이미지 크롭\n",
        "                    cropped_image = image[new_y:new_y+height, new_x:new_x+width]\n",
        "\n",
        "                    # 크롭된 이미지가 유효한지 확인\n",
        "                    if cropped_image.size == 0:\n",
        "                        print(f\"Skipping empty cropped image: {image_file}\")\n",
        "                        continue\n",
        "\n",
        "                    cropped_image_rgb = cv2.cvtColor(cropped_image, cv2.COLOR_BGR2RGB)\n",
        "\n",
        "                    # 크롭된 이미지 저장 경로 설정 splittext->확장자 분리\n",
        "                    a = os.path.basename(image_file)\n",
        "                    cropped_img_path = os.path.join(output_folder_path, f\"{a.split('.')[0]}_crop.jpg\")\n",
        "\n",
        "                    # 크롭된 이미지 저장\n",
        "                    # cv2.imwrite(cropped_img_path, cropped_image)\n",
        "\n",
        "                    # path = save_path + f\"/crop_{filename}\"\n",
        "                    ptype = os.path.splitext(cropped_img_path)[1]\n",
        "                    ret, img_arr = cv2.imencode(ptype, cropped_image_rgb)\n",
        "\n",
        "                    if ret:\n",
        "                        with open(cropped_img_path, mode='w+b') as f:\n",
        "                            img_arr.tofile(f)\n",
        "                    # print(cropped_img_path)\n",
        "\n",
        "                    # # 크롭된 이미지 시각화\n",
        "                    # plt.imshow(cv2.cvtColor(cropped_image, cv2.COLOR_BGR2RGB))\n",
        "                    # plt.title(f\"Cropped Image {i + 1}\")\n",
        "                    # plt.axis('off')\n",
        "                    # plt.show()"
      ],
      "metadata": {
        "id": "q6Th60ortVcp"
      },
      "execution_count": null,
      "outputs": []
    },
    {
      "cell_type": "markdown",
      "source": [
        "### 1000개 이후의 사진 갖는 디렉터리 수 확인"
      ],
      "metadata": {
        "id": "lhkWlOfItg-w"
      }
    },
    {
      "cell_type": "code",
      "source": [
        "###버전1\n",
        "import os\n",
        "\n",
        "# 주어진 루트 디렉토리 경로\n",
        "root_dir = '/content/drive/MyDrive/food_data/Crop'\n",
        "\n",
        "# 파일 개수 정보를 저장할 딕셔너리 초기화\n",
        "file_count_per_folder = {}\n",
        "\n",
        "# 1000개 이하의 파일을 가진 폴더 리스트 초기화\n",
        "folders_with_few_files = []\n",
        "\n",
        "# 파일 개수를 세는 함수\n",
        "def count_files_in_directory(directory):\n",
        "    file_count = 0\n",
        "    for root, dirs, files in os.walk(directory):\n",
        "        file_count += len(files)\n",
        "    return file_count\n",
        "\n",
        "# '101'부터 '110'까지의 폴더를 탐색\n",
        "for folder_num in range(101, 106):\n",
        "    target_folder = os.path.join(root_dir, str(folder_num))\n",
        "    if os.path.exists(target_folder):\n",
        "        # 하위 폴더 탐색\n",
        "        for food_folder in os.listdir(target_folder):\n",
        "            food_folder_path = os.path.join(target_folder, food_folder)\n",
        "            if os.path.isdir(food_folder_path):\n",
        "                # 해당 폴더 내의 파일 개수 계산\n",
        "                file_count = count_files_in_directory(food_folder_path)\n",
        "                file_count_per_folder[food_folder] = file_count\n",
        "                # 파일 개수가 1000개 이하인 폴더를 리스트에 추가\n",
        "                if file_count <= 1000:\n",
        "                    folders_with_few_files.append((food_folder, file_count))\n",
        "\n",
        "# 파일 개수 정보 출력\n",
        "print(\"파일 개수 정보:\")\n",
        "for folder, count in file_count_per_folder.items():\n",
        "    print(f\"{folder}: {count}개 파일\")\n",
        "\n",
        "# 1000개 이하의 파일을 가진 폴더 정보 출력\n",
        "print(\"\\n1000개 이하의 파일을 가진 폴더:\")\n",
        "for folder, count in folders_with_few_files:\n",
        "    print(f\"{folder}: {count}개 파일\")\n",
        "\n",
        "# 결과 리스트 확인\n",
        "print(\"\\n1000개 이하의 파일을 가진 폴더 리스트:\")\n",
        "print(folders_with_few_files)"
      ],
      "metadata": {
        "id": "PAaKkAn3tsAq"
      },
      "execution_count": null,
      "outputs": []
    },
    {
      "cell_type": "code",
      "source": [
        "###버전2\n",
        "import os\n",
        "\n",
        "# 주어진 루트 디렉토리 경로\n",
        "root_dir = '/content/drive/MyDrive/food_data/Crop'\n",
        "\n",
        "# 파일 개수 정보를 저장할 딕셔너리 초기화\n",
        "file_count_per_folder = {}\n",
        "\n",
        "# 1000개 이하의 파일을 가진 폴더 리스트 초기화\n",
        "folders_with_few_files = []\n",
        "\n",
        "# '101'부터 '110'까지의 폴더를 탐색\n",
        "for folder_num in range(101, 106):\n",
        "    target_folder = os.path.join(root_dir, str(folder_num))\n",
        "    if os.path.exists(target_folder):\n",
        "        # 하위 폴더 탐색\n",
        "        for food_folder in os.listdir(target_folder):\n",
        "            food_folder_path = os.path.join(target_folder, food_folder)\n",
        "            if os.path.isdir(food_folder_path):\n",
        "                # 해당 폴더 내의 파일 개수 계산\n",
        "                file_count = glob.glob(os.path.join(food_folder_path, '*'))\n",
        "                file_count_per_folder[food_folder] = len(file_count)\n",
        "                # 파일 개수가 1000개 이하인 폴더를 리스트에 추가\n",
        "                if len(file_count) < 900:\n",
        "                    folders_with_few_files.append((food_folder, len(file_count)))\n",
        "\n",
        "    print(len(os.listdir(target_folder)))\n",
        "\n",
        "# 파일 개수 정보 출력\n",
        "print(\"파일 개수 정보:\")\n",
        "for folder, count in file_count_per_folder.items():\n",
        "    print(f\"{folder}: {count}개 파일\")\n",
        "\n",
        "# 1000개 이하의 파일을 가진 폴더 정보 출력\n",
        "print(\"\\n1000개 이하의 파일을 가진 폴더:\")\n",
        "for folder, count in folders_with_few_files:\n",
        "    print(f\"{folder}: {count}개 파일\")\n",
        "\n",
        "# 결과 리스트 확인\n",
        "print(\"\\n1000개 이하의 파일을 가진 폴더 리스트:\")\n",
        "print(folders_with_few_files)"
      ],
      "metadata": {
        "id": "pN4tnJbyt4zf"
      },
      "execution_count": null,
      "outputs": []
    },
    {
      "cell_type": "code",
      "source": [
        "import os\n",
        "import csv\n",
        "\n",
        "# 주어진 루트 디렉토리 경로\n",
        "root_dir = '/content/drive/MyDrive/food_data/Crop'\n",
        "\n",
        "# CSV 파일 경로\n",
        "csv_file_path = '/content/drive/MyDrive/food_data/food_structure.csv'\n",
        "\n",
        "# 파일 경로 정보를 저장할 리스트 초기화\n",
        "file_structure = []\n",
        "\n",
        "# 디렉토리를 재귀적으로 탐색하는 함수\n",
        "def explore_directory(current_dir):\n",
        "    for root, dirs, files in os.walk(current_dir):\n",
        "        for dir_name in dirs:\n",
        "            dir_path = os.path.join(root, dir_name)\n",
        "            # 하위 디렉토리 탐색\n",
        "            explore_directory(dir_path)\n",
        "        for file_name in files:\n",
        "            file_path = os.path.join(root, file_name)\n",
        "            # 폴더 이름과 파일 경로를 리스트에 추가\n",
        "            food_folder = os.path.basename(root)\n",
        "            file_structure.append([food_folder, file_path])\n",
        "\n",
        "# '101'부터 '110'까지의 폴더를 탐색\n",
        "for folder_num in range(101, 111):\n",
        "    target_folder = os.path.join(root_dir, str(folder_num))\n",
        "    if os.path.exists(target_folder):\n",
        "        explore_directory(target_folder)\n",
        "\n",
        "# CSV 파일로 저장\n",
        "with open(csv_file_path, mode='w', newline='', encoding='utf-8') as csv_file:\n",
        "    writer = csv.writer(csv_file)\n",
        "    # 헤더 작성\n",
        "    writer.writerow(['Food Folder', 'File Path'])\n",
        "    # 파일 구조 작성\n",
        "    writer.writerows(file_structure)\n",
        "\n",
        "print(f\"CSV 파일이 '{csv_file_path}'에 저장되었습니다.\")"
      ],
      "metadata": {
        "id": "n23TE4mut5OQ"
      },
      "execution_count": null,
      "outputs": []
    },
    {
      "cell_type": "markdown",
      "source": [
        "### 사용할 101-110 파일 리스트 저장"
      ],
      "metadata": {
        "id": "0drWwtYCuBlI"
      }
    },
    {
      "cell_type": "code",
      "source": [
        "import os\n",
        "import csv\n",
        "\n",
        "# 주어진 루트 디렉토리 경로\n",
        "root_dir = '/content/drive/MyDrive/food_data/Crop'\n",
        "\n",
        "# CSV 파일 경로\n",
        "csv_file_path = '/content/drive/MyDrive/food_data/food_structure.csv'\n",
        "\n",
        "# 파일 경로 정보를 저장할 리스트 초기화\n",
        "file_structure = []\n",
        "\n",
        "# 디렉토리를 재귀적으로 탐색하는 함수\n",
        "def explore_directory(current_dir):\n",
        "    for root, dirs, files in os.walk(current_dir):\n",
        "        for dir_name in dirs:\n",
        "            dir_path = os.path.join(root, dir_name)\n",
        "            # 하위 디렉토리 탐색\n",
        "            explore_directory(dir_path)\n",
        "        for file_name in files:\n",
        "            file_path = os.path.join(root, file_name)\n",
        "            # 폴더 이름과 파일 경로를 리스트에 추가\n",
        "            food_folder = os.path.basename(root)\n",
        "            file_structure.append([food_folder, file_path])\n",
        "\n",
        "# '101'부터 '110'까지의 폴더를 탐색\n",
        "for folder_num in range(101, 111):\n",
        "    target_folder = os.path.join(root_dir, str(folder_num))\n",
        "    if os.path.exists(target_folder):\n",
        "        explore_directory(target_folder)\n",
        "\n",
        "# CSV 파일로 저장\n",
        "with open(csv_file_path, mode='w', newline='', encoding='utf-8') as csv_file:\n",
        "    writer = csv.writer(csv_file)\n",
        "    # 헤더 작성\n",
        "    writer.writerow(['Food Folder', 'File Path'])\n",
        "    # 파일 구조 작성\n",
        "    writer.writerows(file_structure)\n",
        "\n",
        "print(f\"CSV 파일이 '{csv_file_path}'에 저장되었습니다.\")"
      ],
      "metadata": {
        "id": "wotg2ZDCuECF"
      },
      "execution_count": null,
      "outputs": []
    }
  ]
}